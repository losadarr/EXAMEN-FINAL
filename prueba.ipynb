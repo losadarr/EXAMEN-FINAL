{
 "cells": [
  {
   "cell_type": "code",
   "execution_count": null,
   "metadata": {},
   "outputs": [],
   "source": [
    "#HOLA ME LLAMO DANIEL"
   ]
  },
  {
   "cell_type": "markdown",
   "metadata": {},
   "source": [
    "Ejercicio 1 (2 puntos):\n",
    "\n",
    "a) Crea una función que calcule y devuelva el factorial de un número entero. (0.6 puntos)\n"
   ]
  },
  {
   "cell_type": "code",
   "execution_count": 1,
   "metadata": {},
   "outputs": [],
   "source": [
    "def factorial(n):\n",
    "    \n",
    "    if n < 0:\n",
    "        return \"número negativo\"\n",
    "    \n",
    "    elif n == 1 or n == 0: #ejemplo mas sencillo\n",
    "        return 1\n",
    "    \n",
    "    else:\n",
    "        result=1\n",
    "        for i in range(2,n+1):\n",
    "            result*=i\n",
    "        return result\n",
    "numero=5"
   ]
  },
  {
   "cell_type": "code",
   "execution_count": 2,
   "metadata": {},
   "outputs": [
    {
     "data": {
      "text/plain": [
       "120"
      ]
     },
     "execution_count": 2,
     "metadata": {},
     "output_type": "execute_result"
    }
   ],
   "source": [
    "factorial(numero)"
   ]
  },
  {
   "cell_type": "markdown",
   "metadata": {},
   "source": [
    "b) Crea una función que verifique si un número es primo o no. (0.6 puntos)"
   ]
  },
  {
   "cell_type": "code",
   "execution_count": 7,
   "metadata": {},
   "outputs": [],
   "source": [
    "def is_prime(n):\n",
    "    if n <= 1:\n",
    "        return False\n",
    "    for i in range(2, int(n**0.5) + 1):\n",
    "        if n % i == 0:\n",
    "            return False\n",
    "    return True\n"
   ]
  },
  {
   "cell_type": "code",
   "execution_count": 8,
   "metadata": {},
   "outputs": [
    {
     "name": "stdout",
     "output_type": "stream",
     "text": [
      "no es un número primo\n"
     ]
    }
   ],
   "source": [
    "numero = 25\n",
    "if is_prime(numero):\n",
    "    print(\"es un número primo\")\n",
    "else:\n",
    "    print(\"no es un número primo\")\n",
    "    "
   ]
  },
  {
   "cell_type": "markdown",
   "metadata": {},
   "source": [
    "c) Muestra en un dataframe los 50 primeros números positivos, si es primo y su factorial utilizando las funciones anteriores. (0.6 puntos)"
   ]
  },
  {
   "cell_type": "code",
   "execution_count": 9,
   "metadata": {},
   "outputs": [
    {
     "name": "stdout",
     "output_type": "stream",
     "text": [
      "    Number  Is Prime                                          Factorial\n",
      "0        1     False                                                  1\n",
      "1        2      True                                                  2\n",
      "2        3      True                                                  6\n",
      "3        4     False                                                 24\n",
      "4        5      True                                                120\n",
      "5        6     False                                                720\n",
      "6        7      True                                               5040\n",
      "7        8     False                                              40320\n",
      "8        9     False                                             362880\n",
      "9       10     False                                            3628800\n",
      "10      11      True                                           39916800\n",
      "11      12     False                                          479001600\n",
      "12      13      True                                         6227020800\n",
      "13      14     False                                        87178291200\n",
      "14      15     False                                      1307674368000\n",
      "15      16     False                                     20922789888000\n",
      "16      17      True                                    355687428096000\n",
      "17      18     False                                   6402373705728000\n",
      "18      19      True                                 121645100408832000\n",
      "19      20     False                                2432902008176640000\n",
      "20      21     False                               51090942171709440000\n",
      "21      22     False                             1124000727777607680000\n",
      "22      23      True                            25852016738884976640000\n",
      "23      24     False                           620448401733239439360000\n",
      "24      25     False                         15511210043330985984000000\n",
      "25      26     False                        403291461126605635584000000\n",
      "26      27     False                      10888869450418352160768000000\n",
      "27      28     False                     304888344611713860501504000000\n",
      "28      29      True                    8841761993739701954543616000000\n",
      "29      30     False                  265252859812191058636308480000000\n",
      "30      31      True                 8222838654177922817725562880000000\n",
      "31      32     False               263130836933693530167218012160000000\n",
      "32      33     False              8683317618811886495518194401280000000\n",
      "33      34     False            295232799039604140847618609643520000000\n",
      "34      35     False          10333147966386144929666651337523200000000\n",
      "35      36     False         371993326789901217467999448150835200000000\n",
      "36      37      True       13763753091226345046315979581580902400000000\n",
      "37      38     False      523022617466601111760007224100074291200000000\n",
      "38      39     False    20397882081197443358640281739902897356800000000\n",
      "39      40     False   815915283247897734345611269596115894272000000000\n",
      "40      41      True  3345252661316380710817006205344075166515200000...\n",
      "41      42     False  1405006117752879898543142606244511569936384000...\n",
      "42      43      True  6041526306337383563735513206851399750726451200...\n",
      "43      44     False  2658271574788448768043625811014615890319638528...\n",
      "44      45     False  1196222208654801945619631614956577150643837337...\n",
      "45      46     False  5502622159812088949850305428800254892961651752...\n",
      "46      47      True  2586232415111681806429643551536119799691976323...\n",
      "47      48     False  1241391559253607267086228904737337503852148635...\n",
      "48      49     False  6082818640342675608722521633212953768875528313...\n",
      "49      50     False  3041409320171337804361260816606476884437764156...\n"
     ]
    }
   ],
   "source": [
    "import pandas as pd\n",
    "\n",
    "data = []\n",
    "for num in range(1, 51):\n",
    "    prime = is_prime(num)\n",
    "    fact = factorial(num)\n",
    "    data.append([num, prime, fact])\n",
    "\n",
    "df = pd.DataFrame(data, columns=['Number', 'Is Prime', 'Factorial'])\n",
    "print(df)\n"
   ]
  },
  {
   "cell_type": "markdown",
   "metadata": {},
   "source": [
    "d) ¿Cómo se podría programar en una clase las tres operaciones anteriores? (0.2 puntos)"
   ]
  },
  {
   "cell_type": "code",
   "execution_count": null,
   "metadata": {},
   "outputs": [],
   "source": [
    "#Can you program in one class the three operations of before\n",
    "#(factorial, is_prime, and the dataframe creation) \n",
    "\n",
    "class Operaciones:\n",
    "    \n",
    "    def factorial(self, n):\n",
    "    \n",
    "        if n < 0:\n",
    "            return \"número negativo\"\n",
    "    \n",
    "        elif n == 1 or n == 0: #ejemplo mas sencillo\n",
    "            return 1\n",
    "    \n",
    "        else:\n",
    "            result=1\n",
    "            for i in range(2,n+1):\n",
    "                result*=i\n",
    "            return result\n",
    "    \n",
    "    def is_prime(self, n):\n",
    "        if n <= 1:\n",
    "            return False\n",
    "        for i in range(2, int(n**0.5) + 1):\n",
    "            if n % i == 0:\n",
    "                return False\n",
    "        return True\n",
    "    \n",
    "    def dataframe(self):\n",
    "        data = []\n",
    "        for num in range(1, 51):\n",
    "            prime = self.is_prime(num)\n",
    "            fact = self.factorial(num)\n",
    "            data.append([num, prime, fact])\n",
    "        df = pd.DataFrame(data, columns=['Number', 'Is Prime', 'Factorial'])\n",
    "        return df"
   ]
  },
  {
   "cell_type": "markdown",
   "metadata": {},
   "source": [
    "Ejercicio 2 (4 puntos):"
   ]
  },
  {
   "cell_type": "markdown",
   "metadata": {},
   "source": [
    "a) Extrae de sklearn el conjunto de datos California Housing dataset y transfórmalo a dataframe de pandas (0.25 puntos)"
   ]
  },
  {
   "cell_type": "code",
   "execution_count": 10,
   "metadata": {},
   "outputs": [
    {
     "name": "stdout",
     "output_type": "stream",
     "text": [
      "       MedInc  HouseAge  AveRooms  AveBedrms  Population  AveOccup  Latitude  \\\n",
      "0      8.3252      41.0  6.984127   1.023810       322.0  2.555556     37.88   \n",
      "1      8.3014      21.0  6.238137   0.971880      2401.0  2.109842     37.86   \n",
      "2      7.2574      52.0  8.288136   1.073446       496.0  2.802260     37.85   \n",
      "3      5.6431      52.0  5.817352   1.073059       558.0  2.547945     37.85   \n",
      "4      3.8462      52.0  6.281853   1.081081       565.0  2.181467     37.85   \n",
      "...       ...       ...       ...        ...         ...       ...       ...   \n",
      "20635  1.5603      25.0  5.045455   1.133333       845.0  2.560606     39.48   \n",
      "20636  2.5568      18.0  6.114035   1.315789       356.0  3.122807     39.49   \n",
      "20637  1.7000      17.0  5.205543   1.120092      1007.0  2.325635     39.43   \n",
      "20638  1.8672      18.0  5.329513   1.171920       741.0  2.123209     39.43   \n",
      "20639  2.3886      16.0  5.254717   1.162264      1387.0  2.616981     39.37   \n",
      "\n",
      "       Longitude  Target  \n",
      "0        -122.23   4.526  \n",
      "1        -122.22   3.585  \n",
      "2        -122.24   3.521  \n",
      "3        -122.25   3.413  \n",
      "4        -122.25   3.422  \n",
      "...          ...     ...  \n",
      "20635    -121.09   0.781  \n",
      "20636    -121.21   0.771  \n",
      "20637    -121.22   0.923  \n",
      "20638    -121.32   0.847  \n",
      "20639    -121.24   0.894  \n",
      "\n",
      "[20640 rows x 9 columns]\n"
     ]
    }
   ],
   "source": [
    "#Extract from sklearn the \"california housing dataset and transform it into a pandas dataframe\n",
    "\n",
    "from sklearn.datasets import fetch_california_housing\n",
    "import pandas as pd\n",
    "california = fetch_california_housing()\n",
    "california_df = pd.DataFrame(california.data, columns=california.feature_names)\n",
    "california_df['Target'] = pd.Series(california.target)\n",
    "print(california_df)\n",
    "\n"
   ]
  },
  {
   "cell_type": "markdown",
   "metadata": {},
   "source": [
    "b) Construye una función que muestra la estructura del dataset, el número de NAs, tipos de variables y estadísticas básicas de cada una de las variables. (0.5 puntos)"
   ]
  },
  {
   "cell_type": "code",
   "execution_count": 11,
   "metadata": {},
   "outputs": [],
   "source": [
    "def dataset_summary(df):\n",
    "    # Show dataset structure\n",
    "    print(\"Dataset Structure:\")\n",
    "    print(df.info())\n",
    "    print()\n",
    "    \n",
    "    # Show number of NA's\n",
    "    print(\"Number of NA's:\")\n",
    "    print(df.isna().sum())\n",
    "    print()\n",
    "    \n",
    "    # Show type of variables\n",
    "    print(\"Type of Variables:\")\n",
    "    print(df.dtypes)\n",
    "    print()\n",
    "    \n",
    "    # Show basic statistics of each variable\n",
    "    print(\"Basic Statistics:\")\n",
    "    print(df.describe())\n"
   ]
  },
  {
   "cell_type": "code",
   "execution_count": 12,
   "metadata": {},
   "outputs": [
    {
     "name": "stdout",
     "output_type": "stream",
     "text": [
      "Dataset Structure:\n",
      "<class 'pandas.core.frame.DataFrame'>\n",
      "RangeIndex: 20640 entries, 0 to 20639\n",
      "Data columns (total 9 columns):\n",
      " #   Column      Non-Null Count  Dtype  \n",
      "---  ------      --------------  -----  \n",
      " 0   MedInc      20640 non-null  float64\n",
      " 1   HouseAge    20640 non-null  float64\n",
      " 2   AveRooms    20640 non-null  float64\n",
      " 3   AveBedrms   20640 non-null  float64\n",
      " 4   Population  20640 non-null  float64\n",
      " 5   AveOccup    20640 non-null  float64\n",
      " 6   Latitude    20640 non-null  float64\n",
      " 7   Longitude   20640 non-null  float64\n",
      " 8   Target      20640 non-null  float64\n",
      "dtypes: float64(9)\n",
      "memory usage: 1.4 MB\n",
      "None\n",
      "\n",
      "Number of NA's:\n",
      "MedInc        0\n",
      "HouseAge      0\n",
      "AveRooms      0\n",
      "AveBedrms     0\n",
      "Population    0\n",
      "AveOccup      0\n",
      "Latitude      0\n",
      "Longitude     0\n",
      "Target        0\n",
      "dtype: int64\n",
      "\n",
      "Type of Variables:\n",
      "MedInc        float64\n",
      "HouseAge      float64\n",
      "AveRooms      float64\n",
      "AveBedrms     float64\n",
      "Population    float64\n",
      "AveOccup      float64\n",
      "Latitude      float64\n",
      "Longitude     float64\n",
      "Target        float64\n",
      "dtype: object\n",
      "\n",
      "Basic Statistics:\n",
      "             MedInc      HouseAge      AveRooms     AveBedrms    Population  \\\n",
      "count  20640.000000  20640.000000  20640.000000  20640.000000  20640.000000   \n",
      "mean       3.870671     28.639486      5.429000      1.096675   1425.476744   \n",
      "std        1.899822     12.585558      2.474173      0.473911   1132.462122   \n",
      "min        0.499900      1.000000      0.846154      0.333333      3.000000   \n",
      "25%        2.563400     18.000000      4.440716      1.006079    787.000000   \n",
      "50%        3.534800     29.000000      5.229129      1.048780   1166.000000   \n",
      "75%        4.743250     37.000000      6.052381      1.099526   1725.000000   \n",
      "max       15.000100     52.000000    141.909091     34.066667  35682.000000   \n",
      "\n",
      "           AveOccup      Latitude     Longitude        Target  \n",
      "count  20640.000000  20640.000000  20640.000000  20640.000000  \n",
      "mean       3.070655     35.631861   -119.569704      2.068558  \n",
      "std       10.386050      2.135952      2.003532      1.153956  \n",
      "min        0.692308     32.540000   -124.350000      0.149990  \n",
      "25%        2.429741     33.930000   -121.800000      1.196000  \n",
      "50%        2.818116     34.260000   -118.490000      1.797000  \n",
      "75%        3.282261     37.710000   -118.010000      2.647250  \n",
      "max     1243.333333     41.950000   -114.310000      5.000010  \n"
     ]
    }
   ],
   "source": [
    "#make an example of the usage of this function with the california housing dataset\n",
    "\n",
    "dataset_summary(california_df)\n"
   ]
  }
 ],
 "metadata": {
  "kernelspec": {
   "display_name": "Python 3",
   "language": "python",
   "name": "python3"
  },
  "language_info": {
   "codemirror_mode": {
    "name": "ipython",
    "version": 3
   },
   "file_extension": ".py",
   "mimetype": "text/x-python",
   "name": "python",
   "nbconvert_exporter": "python",
   "pygments_lexer": "ipython3",
   "version": "3.10.7"
  }
 },
 "nbformat": 4,
 "nbformat_minor": 2
}
